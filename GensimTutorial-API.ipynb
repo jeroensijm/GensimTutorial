{
 "cells": [
  {
   "cell_type": "code",
   "execution_count": 1,
   "metadata": {},
   "outputs": [],
   "source": [
    "# https://www.machinelearningplus.com/nlp/gensim-tutorial/"
   ]
  },
  {
   "cell_type": "markdown",
   "metadata": {},
   "source": [
    "### 9. How to use gensim downloader API to load datasets?\n",
    "\n",
    "Gensim provides an inbuilt API to download popular text datasets and word embedding models.\n",
    "\n",
    "A comprehensive list of available datasets and models is maintained here: https://raw.githubusercontent.com/RaRe-Technologies/gensim-data/master/list.json\n",
    "\n",
    "Using the API to download the dataset is as simple as calling the api.load() method with the right data or model name.\n",
    "\n",
    "The below example shows how to download the ‘glove-wiki-gigaword-50’ model."
   ]
  },
  {
   "cell_type": "code",
   "execution_count": 2,
   "metadata": {},
   "outputs": [
    {
     "name": "stdout",
     "output_type": "stream",
     "text": [
      "[==================================================] 100.0% 66.0/66.0MB downloaded\n"
     ]
    },
    {
     "data": {
      "text/plain": [
       "[('red', 0.8901657462120056),\n",
       " ('black', 0.8648406863212585),\n",
       " ('pink', 0.845291793346405),\n",
       " ('green', 0.8346816301345825),\n",
       " ('yellow', 0.8320707082748413),\n",
       " ('purple', 0.8293111324310303),\n",
       " ('white', 0.8225342035293579),\n",
       " ('orange', 0.8114302158355713),\n",
       " ('bright', 0.799933910369873),\n",
       " ('colored', 0.7876655459403992)]"
      ]
     },
     "execution_count": 2,
     "metadata": {},
     "output_type": "execute_result"
    }
   ],
   "source": [
    "import gensim.downloader as api\n",
    "\n",
    "# Get information about the model or dataset\n",
    "api.info('glove-wiki-gigaword-50')\n",
    "# {'base_dataset': 'Wikipedia 2014 + Gigaword 5 (6B tokens, uncased)',\n",
    "#  'checksum': 'c289bc5d7f2f02c6dc9f2f9b67641813',\n",
    "#  'description': 'Pre-trained vectors based on Wikipedia 2014 + Gigaword, 5.6B tokens, 400K vocab, uncased (https://nlp.stanford.edu/projects/glove/).',\n",
    "#  'file_name': 'glove-wiki-gigaword-50.gz',\n",
    "#  'file_size': 69182535,\n",
    "#  'license': 'http://opendatacommons.org/licenses/pddl/',\n",
    "#  (... truncated...)\n",
    "\n",
    "# Download\n",
    "w2v_model = api.load(\"glove-wiki-gigaword-50\")\n",
    "w2v_model.most_similar('blue')\n",
    "# [('red', 0.8901656866073608),\n",
    "#  ('black', 0.8648407459259033),\n",
    "#  ('pink', 0.8452916741371155),\n",
    "#  ('green', 0.8346816301345825),\n",
    "#  ... ]"
   ]
  },
  {
   "cell_type": "code",
   "execution_count": 11,
   "metadata": {},
   "outputs": [
    {
     "data": {
      "text/plain": [
       "[('taiwan', 0.9360763430595398),\n",
       " ('chinese', 0.8957242369651794),\n",
       " ('beijing', 0.8920878171920776),\n",
       " ('mainland', 0.8644796013832092),\n",
       " ('japan', 0.8428841829299927),\n",
       " ('vietnam', 0.8287292122840881),\n",
       " ('korea', 0.8234633803367615),\n",
       " ('hong', 0.8147336840629578),\n",
       " ('kong', 0.8008338212966919),\n",
       " ('asian', 0.7914889454841614)]"
      ]
     },
     "execution_count": 11,
     "metadata": {},
     "output_type": "execute_result"
    }
   ],
   "source": [
    "w2v_model.most_similar('china')"
   ]
  },
  {
   "cell_type": "code",
   "execution_count": null,
   "metadata": {},
   "outputs": [],
   "source": []
  }
 ],
 "metadata": {
  "kernelspec": {
   "display_name": "GensimTut_Python3.7",
   "language": "python",
   "name": "venv"
  },
  "language_info": {
   "codemirror_mode": {
    "name": "ipython",
    "version": 3
   },
   "file_extension": ".py",
   "mimetype": "text/x-python",
   "name": "python",
   "nbconvert_exporter": "python",
   "pygments_lexer": "ipython3",
   "version": "3.7.2"
  }
 },
 "nbformat": 4,
 "nbformat_minor": 2
}
