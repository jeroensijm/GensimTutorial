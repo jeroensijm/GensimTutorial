{
 "cells": [
  {
   "cell_type": "code",
   "execution_count": 1,
   "metadata": {},
   "outputs": [],
   "source": [
    "#https://www.machinelearningplus.com/nlp/gensim-tutorial/"
   ]
  },
  {
   "cell_type": "markdown",
   "metadata": {},
   "source": [
    "2. What is a Dictionary and Corpus?\n",
    "In order to work on text documents, Gensim requires the words (aka tokens) be converted to unique ids. In order to achieve that, Gensim lets you create a Dictionary object that maps each word to a unique id.\n",
    "\n",
    "So, how to create a `Dictionary`? By converting your text/sentences to a [list of words] and pass it to the corpora.Dictionary() object."
   ]
  },
  {
   "cell_type": "markdown",
   "metadata": {},
   "source": [
    "But why is the dictionary object needed and where can it be used?\n",
    "\n",
    "The dictionary object is typically used to create a ‘bag of words’ Corpus. It is this Dictionary and the bag-of-words (Corpus) that are used as inputs to topic modeling and other models that Gensim specializes in.\n",
    "\n",
    "Alright, what sort of text inputs can gensim handle? The input text typically comes in 3 different forms:\n",
    "\n",
    "As sentences stored in python’s native list object\n",
    "As one single text file, small or large.\n",
    "In multiple text files."
   ]
  },
  {
   "cell_type": "code",
   "execution_count": 10,
   "metadata": {},
   "outputs": [
    {
     "name": "stdout",
     "output_type": "stream",
     "text": [
      "Dictionary(33 unique tokens: ['Saudis', 'The', 'a', 'acknowledge', 'are']...)\n"
     ]
    }
   ],
   "source": [
    "import gensim\n",
    "from gensim import corpora\n",
    "from pprint import pprint\n",
    "\n",
    "# How to create a dictionary from a list of sentences?\n",
    "documents = [\"The Saudis are preparing a report that will acknowledge that\", \n",
    "             \"Saudi journalist Jamal Khashoggi's death was the result of an\", \n",
    "             \"interrogation that went wrong, one that was intended to lead\", \n",
    "             \"to his abduction from Turkey, according to two sources.\"]\n",
    "\n",
    "documents_2 = [\"One source says the report will likely conclude that\", \n",
    "                \"the operation was carried out without clearance and\", \n",
    "                \"transparency and that those involved will be held\", \n",
    "                \"responsible. One of the sources acknowledged that the\", \n",
    "                \"report is still being prepared and cautioned that\", \n",
    "                \"things could change.\"]\n",
    "\n",
    "# Tokenize(split) the sentences into words  (creating list of lists)\n",
    "texts = [[text for text in doc.split()] for doc in documents]\n",
    "\n",
    "# Create dictionary\n",
    "dictionary = corpora.Dictionary(texts)\n",
    "\n",
    "# Get information about the dictionary\n",
    "print(dictionary)\n",
    "#> Dictionary(33 unique tokens: ['Saudis', 'The', 'a', 'acknowledge', 'are']...)"
   ]
  },
  {
   "cell_type": "code",
   "execution_count": 12,
   "metadata": {},
   "outputs": [
    {
     "name": "stdout",
     "output_type": "stream",
     "text": [
      "{'Saudis': 0, 'The': 1, 'a': 2, 'acknowledge': 3, 'are': 4, 'preparing': 5, 'report': 6, 'that': 7, 'will': 8, 'Jamal': 9, \"Khashoggi's\": 10, 'Saudi': 11, 'an': 12, 'death': 13, 'journalist': 14, 'of': 15, 'result': 16, 'the': 17, 'was': 18, 'intended': 19, 'interrogation': 20, 'lead': 21, 'one': 22, 'to': 23, 'went': 24, 'wrong,': 25, 'Turkey,': 26, 'abduction': 27, 'according': 28, 'from': 29, 'his': 30, 'sources.': 31, 'two': 32}\n"
     ]
    }
   ],
   "source": [
    "# Show the word to id map\n",
    "print(dictionary.token2id)  #every word has an ID   \n",
    "#for more dictionary functions:  #https://radimrehurek.com/gensim/corpora/dictionary.html   including max_df min_df filtering!"
   ]
  },
  {
   "cell_type": "markdown",
   "metadata": {},
   "source": [
    "We have successfully created a Dictionary object. Gensim will use this dictionary to create a bag-of-words corpus where the words in the documents are replaced with its respective id provided by this dictionary.\n",
    "\n",
    "If you get new documents in the future, it is also possible to update an existing dictionary to include the new words.\n",
    "\n"
   ]
  },
  {
   "cell_type": "code",
   "execution_count": 14,
   "metadata": {},
   "outputs": [
    {
     "name": "stdout",
     "output_type": "stream",
     "text": [
      "Dictionary(48 unique tokens: ['Saudis', 'The', 'a', 'acknowledge', 'are']...)\n",
      "{'Saudis': 0, 'The': 1, 'a': 2, 'acknowledge': 3, 'are': 4, 'preparing': 5, 'report': 6, 'that': 7, 'will': 8, 'Jamal': 9, \"Khashoggi's\": 10, 'Saudi': 11, 'an': 12, 'death': 13, 'journalist': 14, 'of': 15, 'result': 16, 'the': 17, 'was': 18, 'intended': 19, 'interrogation': 20, 'lead': 21, 'one': 22, 'to': 23, 'went': 24, 'wrong,': 25, 'Turkey,': 26, 'abduction': 27, 'according': 28, 'from': 29, 'his': 30, 'sources.': 31, 'two': 32, 'graph': 33, 'in': 34, 'intersection': 35, 'paths': 36, 'trees': 37, 'Graph': 38, 'IV': 39, 'Widths': 40, 'and': 41, 'minors': 42, 'ordering': 43, 'quasi': 44, 'well': 45, 'A': 46, 'survey': 47}\n"
     ]
    }
   ],
   "source": [
    "#updating the dictionary\n",
    "\n",
    "documents_2 = [\"The intersection graph of paths in trees\",\n",
    "               \"Graph minors IV Widths of trees and well quasi ordering\",\n",
    "               \"Graph minors A survey\"]\n",
    "\n",
    "texts_2 = [[text for text in doc.split()] for doc in documents_2]\n",
    "\n",
    "dictionary.add_documents(texts_2)\n",
    "\n",
    "\n",
    "# If you check now, the dictionary should have been updated with the new words (tokens).\n",
    "print(dictionary)\n",
    "#> Dictionary(45 unique tokens: ['Human', 'abc', 'applications', 'computer', 'for']...)\n",
    "\n",
    "print(dictionary.token2id)\n",
    "#> {'Human': 0, 'abc': 1, 'applications': 2, 'computer': 3, 'for': 4, 'interface': 5, \n",
    "#>  'lab': 6, 'machine': 7, 'A': 8, 'of': 9, 'opinion': 10, 'response': 11, 'survey': 12, \n",
    "#>  'system': 13, 'time': 14, 'user': 15, 'EPS': 16, 'The': 17, 'management': 18, \n",
    "#>  'System': 19, 'and': 20, 'engineering': 21, 'human': 22, 'testing': 23, 'Relation': 24, \n",
    "#>  'error': 25, 'measurement': 26, 'perceived': 27, 'to': 28, 'binary': 29, 'generation': 30, \n",
    "#>  'random': 31, 'trees': 32, 'unordered': 33, 'graph': 34, 'in': 35, 'intersection': 36, \n",
    "#>  'paths': 37, 'Graph': 38, 'IV': 39, 'Widths': 40, 'minors': 41, 'ordering': 42, \n",
    "#>  'quasi': 43, 'well': 44}"
   ]
  },
  {
   "cell_type": "markdown",
   "metadata": {},
   "source": [
    "### 4. How to create a Dictionary from one or more text files?"
   ]
  },
  {
   "cell_type": "code",
   "execution_count": 15,
   "metadata": {},
   "outputs": [
    {
     "data": {
      "text/plain": [
       "{'army': 0,\n",
       " 'china': 1,\n",
       " 'chinese': 2,\n",
       " 'force': 3,\n",
       " 'liberation': 4,\n",
       " 'of': 5,\n",
       " 'people': 6,\n",
       " 'recently': 7,\n",
       " 'recruited': 8,\n",
       " 'rocket': 9,\n",
       " 'tank': 10,\n",
       " 'technicians': 11,\n",
       " 'the': 12,\n",
       " 'think': 13,\n",
       " 'companies': 14,\n",
       " 'daily': 15,\n",
       " 'from': 16,\n",
       " 'on': 17,\n",
       " 'pla': 18,\n",
       " 'private': 19,\n",
       " 'reported': 20,\n",
       " 'saturday': 21,\n",
       " 'and': 22,\n",
       " 'appointment': 23,\n",
       " 'at': 24,\n",
       " 'ceremony': 25,\n",
       " 'experts': 26,\n",
       " 'founding': 27,\n",
       " 'hao': 28,\n",
       " 'letters': 29,\n",
       " 'other': 30,\n",
       " 'received': 31,\n",
       " 'science': 32,\n",
       " 'technology': 33,\n",
       " 'zhang': 34,\n",
       " 'according': 35,\n",
       " 'by': 36,\n",
       " 'defense': 37,\n",
       " 'national': 38,\n",
       " 'panel': 39,\n",
       " 'published': 40,\n",
       " 'report': 41,\n",
       " 'to': 42,\n",
       " 'as': 43,\n",
       " 'fellow': 44,\n",
       " 'his': 45,\n",
       " 'honored': 46,\n",
       " 'will': 47,\n",
       " 'conduct': 48,\n",
       " 'design': 49,\n",
       " 'fields': 50,\n",
       " 'into': 51,\n",
       " 'like': 52,\n",
       " 'members': 53,\n",
       " 'overall': 54,\n",
       " 'research': 55,\n",
       " 'serve': 56,\n",
       " 'which': 57,\n",
       " 'five': 58,\n",
       " 'for': 59,\n",
       " 'launching': 60,\n",
       " 'missile': 61,\n",
       " 'missiles': 62,\n",
       " 'network': 63,\n",
       " 'system': 64,\n",
       " 'years': 65,\n",
       " 'counterparts': 66,\n",
       " 'enjoy': 67,\n",
       " 'firms': 68,\n",
       " 'owned': 69,\n",
       " 'said': 70,\n",
       " 'same': 71,\n",
       " 'state': 72,\n",
       " 'their': 73,\n",
       " 'treatment': 74,\n",
       " 'civilian': 75,\n",
       " 'deepening': 76,\n",
       " 'development': 77,\n",
       " 'in': 78,\n",
       " 'integration': 79,\n",
       " 'marks': 80,\n",
       " 'military': 81,\n",
       " 'new': 82,\n",
       " 'that': 83,\n",
       " 'this': 84,\n",
       " 'better': 85,\n",
       " 'capabilities': 86,\n",
       " 'combat': 87,\n",
       " 'contribute': 88,\n",
       " 'could': 89,\n",
       " 'enhancement': 90,\n",
       " 'innovation': 91,\n",
       " 'make': 92}"
      ]
     },
     "execution_count": 15,
     "metadata": {},
     "output_type": "execute_result"
    }
   ],
   "source": [
    "from gensim.utils import simple_preprocess\n",
    "from smart_open import smart_open\n",
    "import os\n",
    "\n",
    "# Create gensim dictionary form a single tet file\n",
    "dictionary = corpora.Dictionary(simple_preprocess(line, deacc=True) for line in open('sample.txt', encoding='utf-8'))\n",
    "\n",
    "# Token to Id map\n",
    "dictionary.token2id\n",
    "\n",
    "#> {'according': 35,\n",
    "#>  'and': 22,\n",
    "#>  'appointment': 23,\n",
    "#>  'army': 0,\n",
    "#>  'as': 43,\n",
    "#>  'at': 24,\n",
    "#>   ...\n",
    "#> }"
   ]
  },
  {
   "cell_type": "markdown",
   "metadata": {},
   "source": [
    "### Creating a dictionary from multiple text files"
   ]
  },
  {
   "cell_type": "markdown",
   "metadata": {},
   "source": [
    "Now, how to read one-line-at-a-time from multiple files?\n",
    "Assuming you have all the text files in the same directory, you need to define a class with an __iter__ method. The __iter__() method should iterate through all the files in a given directory and yield the processed list of word tokens.\n",
    "Let’s define one such class by the name ReadTxtFiles, which takes in the path to directory containing the text files. I am using this directory of sports food docs as input."
   ]
  },
  {
   "cell_type": "code",
   "execution_count": 19,
   "metadata": {},
   "outputs": [
    {
     "name": "stdout",
     "output_type": "stream",
     "text": [
      "cricket.txt\n",
      "badminton.txt\n",
      "dosa.txt\n",
      "pizza.txt\n",
      "pasta.txt\n",
      "noodles.txt\n",
      "table tennis.txt\n",
      "idli.txt\n",
      "baseball.txt\n",
      "{'doctype': 0, 'html': 1, 'en': 2, 'lang': 3, 'head': 4, 'charset': 5, 'meta': 6, 'utf': 7, 'com': 8, 'dns': 9, 'github': 10, 'githubassets': 11, 'href': 12, 'https': 13, 'link': 14, 'prefetch': 15, 'rel': 16, 'avatars': 17, 'amazonaws': 18, 'cloud': 19, 'images': 20, 'user': 21, 'ac': 22, 'all': 23, 'anonymous': 24, 'assets': 25, 'bfeb': 26, 'cb': 27, 'crossorigin': 28, 'css': 29, 'dbe': 30, 'dfhmjkb': 31, 'eyldda': 32, 'frameworks': 33, 'ga': 34, 'hfay': 35, 'hjsk': 36, 'integrity': 37, 'iw': 38, 'jleiufjaob': 39, 'kgk': 40, 'media': 41, 'qx': 42, 'sha': 43, 'stylesheet': 44, 'yekvqlma': 45, 'yyon': 46, 'bqr': 47, 'ca': 48, 'chmtgkwc': 49, 'fd': 50, 'fnq': 51, 'gwzobulnpxleh': 52, 'jhhfiw': 53, 'jlycxt': 54, 'lzjav': 55, 'tzwgg': 56, 'zdxzcmb': 57, 'content': 58, 'device': 59, 'name': 60, 'viewport': 61, 'width': 62, 'at': 63, 'cricket': 64, 'datasets': 65, 'master': 66, 'selva': 67, 'title': 68, 'txt': 69, 'account': 70, 'an': 71, 'by': 72, 'collection': 73, 'contribute': 74, 'creating': 75, 'description': 76, 'development': 77, 'ml': 78, 'of': 79, 'on': 80, 'problem': 81, 'solving': 82, 'to': 83, 'application': 84, 'opensearch': 85, 'search': 86, 'type': 87, 'xml': 88, 'fluid': 89, 'fluidicon': 90, 'icon': 91, 'png': 92, 'app_id': 93, 'fb': 94, 'property': 95, 'amp': 96, 'image': 97, 'object': 98, 'og': 99, 'site_name': 100, 'url': 101, 'aa': 102, 'aafaeb': 103, 'ab': 104, 'live': 105, 'mduxojniztjjogm': 106, 'mjeymwnjyta': 107, 'mzgxndm': 108, 'njlinmeyyziznwm': 109, 'nwq': 110, 'socket': 111, 'vji': 112, 'web': 113, 'wss': 114, 'ymyyytg': 115, 'ztljnmjkm': 116, 'pjax': 117, 'timeout': 118, 'modal': 119, 'sessions': 120, 'sudo': 121, 'sudo_modal': 122, 'bc': 123, 'data': 124, 'id': 125, 'request': 126, 'transient': 127, 'repo_source': 128, 'selected': 129, 'value': 130, 'bbenwnzzk': 131, 'google': 132, 'gs': 133, 'kt': 134, 'site': 135, 'verification': 136, 'wvaaglkavwq': 137, 'xqysx': 138, 'xurlu': 139, 'exw': 140, 'fsa': 141, 'jsck': 142, 'stvihd': 143, 'uotltm': 144, 'zzhvyefwb': 145, 'gxs': 146, 'kouukncoaazn': 147, 'pywp': 148, 'sejnt_': 149, 'wpn': 150, 'actor': 151, 'ams': 152, 'app': 153, 'browser_event': 154, 'collector': 155, 'dimension': 156, 'ec': 157, 'ee': 158, 'event': 159, 'external': 160, 'fbee': 161, 'fedfb': 162, 'githubapp': 163, 'hash': 164, 'host': 165, 'iad': 166, 'jeroensijm': 167, 'login': 168, 'octolytics': 169, 'region_edge': 170, 'region_render': 171, 'request_id': 172, 'analytics': 173, 'blob': 174, 'gt': 175, 'location': 176, 'lt': 177, 'repo': 178, 'show': 179, 'true': 180, 'ua': 181, 'class': 182, 'df': 183, 'fa': 184, 'js': 185, 'set': 186, 'userid': 187, 'in': 188, 'logged': 189, 'hostname': 190, 'expected': 191, 'aw': 192, 'detection': 193, 'injlbw': 194, 'iymmexotfimxx': 195, 'jdoji': 196, 'lc': 197, 'lji': 198, 'mmi': 199, 'mtnenuiilcj': 200, 'mtuyogy': 201, 'muy': 202, 'ncisinjlcxvlc': 203, 'ndq': 204, 'nje': 205, 'nmrkyzq': 206, 'num': 207, 'nzu': 208, 'odmym': 209, 'ojfeodvbnzoyqti': 210, 'payload': 211, 'proxy': 212, 'qioijnaxrodwiuy': 213, 'qzu': 214, 'rfawqioijdm': 215, 'rhbxaioje': 216, 'tin': 217, 'ymixngzkywm': 218, 'ymu': 219, 'ytm': 220, 'ywzlnjq': 221, 'zjc': 222, 'zv': 223, 'enabled': 224, 'features': 225, 'notify_on_block': 226, 'related_issues': 227, 'universe_banner': 228, 'bde': 229, 'cd': 230, 'cf': 231, 'nonce': 232, 'safe': 233, 'dccc': 234, 'ef': 235, 'equiv': 236, 'http': 237, 'version': 238, 'alternate': 239, 'atom': 240, 'commits': 241, 'recent': 242, 'git': 243, 'go': 244, 'import': 245, 'false': 246, 'repository_id': 247, 'repository_nwo': 248, 'user_id': 249, 'user_login': 250, 'canonical': 251, 'api': 252, 'browser': 253, 'stats': 254, 'errors': 255, 'color': 256, 'mask': 257, 'octocat': 258, 'pinned': 259, 'svg': 260, 'favicon': 261, 'ico': 262, 'theme': 263, 'support': 264, 'credentials': 265, 'json': 266, 'manifest': 267, 'use': 268, 'body': 269, 'boost': 270, 'emoji': 271, 'env': 272, 'page': 273, 'production': 274, 'size': 275, 'div': 276, 'header': 277, 'position': 278, 'relative': 279, 'wrapper': 280, 'bg': 281, 'blue': 282, 'focus': 283, 'skip': 284, 'start': 285, 'tabindex': 286, 'text': 287, 'white': 288, 'bar': 289, 'loader': 290, 'progress': 291, 'banner': 292, 'role': 293, 'between': 294, 'flex': 295, 'justify': 296, 'px': 297, 'hotkey': 298, 'invertocat': 299, 'logo': 300, 'aria': 301, 'home': 302, 'label': 303, 'quot': 304, 'click': 305, 'dashboard': 306, 'evenodd': 307, 'fill': 308, 'height': 309, 'hidden': 310, 'mark': 311, 'octicon': 312, 'path': 313, 'rule': 314, 'viewbox': 315, 'auto': 316, 'headermenu': 317, 'global': 318, 'nav': 319, 'jump': 320, 'scoped': 321, 'combobox': 322, 'owns': 323, 'results': 324, 'or': 325, 'haspopup': 326, 'listbox': 327, 'expanded': 328, 'accept': 329, 'action': 330, 'form': 331, 'get': 332, 'input': 333, 'method': 334, 'option': 335, 'repository': 336, 'scope': 337, 'textarea': 338, 'unscoped': 339, 'xmp': 340, 'center': 341, 'chromeless': 342, 'container': 343, 'control': 344, 'items': 345, 'clearable': 346, 'field': 347, 'is': 348, 'placeholder': 349, 'autocapitalize': 350, 'off': 351, 'autocomplete': 352, 'list': 353, 'controls': 354, 'con': 355, 'crwv': 356, 'csrf': 357, 'ix': 358, 'ni': 359, 'nqx': 360, 'ow': 361, 'qf': 362, 'suggestions': 363, 'token': 364, 'ty': 365, 'uow': 366, 'wcutwcnszmcc': 367, 'xg': 368, 'spellcheck': 369, 'alt': 370, 'img': 371, 'key': 372, 'mr': 373, 'slash': 374, 'src': 375, 'absolute': 376, 'box': 377, 'none': 378, 'overflow': 379, 'template': 380, 'ul': 381, 'item': 382, 'li': 383, 'navigation': 384, 'suggestion': 385, 'no': 386, 'open': 387, 'underline': 388, 'shrink': 389, 'zm': 390, 'project': 391, 'avatar': 392, 'team': 393, 'left': 394, 'target': 395, 'truncate': 396, 'wrap': 397, 'badge': 398, 'border': 399, 'gray': 400, 'light': 401, 'rounded': 402, 'default': 403, 'span': 404, 'this': 405, 'align': 406, 'block': 407, 'inline': 408, 'middle': 409, 'suggested': 410, 'gif': 411, 'spinner': 412, 'spinners': 413, 'bold': 414, 'pl': 415, 'style': 416, 'assigned': 417, 'context': 418, 'created': 419, 'headernavlink': 420, 'links': 421, 'mentioned': 422, 'menu': 423, 'pull': 424, 'pulls': 425, 'requests': 426, 'you': 427, 'issues': 428, 'dimensions': 429, 'marketplace': 430, 'nav_bar': 431, 'octo': 432, 'code': 433, 'collaborate': 434, 'developers': 435, 'explore': 436, 'feature': 437, 'integrations': 438, 'ship': 439, 'showcases': 440, 'trending': 441, 'dropdown': 442, 'changed': 443, 'channel': 444, 'have': 445, 'indicator': 446, 'notification': 447, 'notifications': 448, 'read': 449, 'tooltipped': 450, 'unread': 451, 'mail': 452, 'status': 453, 'bell': 454, 'details': 455, 'overlay': 456, 'reset': 457, 'summary': 458, 'create': 459, 'new': 460, 'add': 461, 'float': 462, 'mt': 463, 'plus': 464, 'caret': 465, 'sw': 466, 'menuitem': 467, 'gist': 468, 'organization': 469, 'organizations': 470, 'divider': 471, 'issue': 472, 'and': 473, 'more': 474, 'profile': 475, 'view': 476, 'as': 477, 'current': 478, 'mb': 479, 'pb': 480, 'pt': 481, 'signed': 482, 'strong': 483, 'compact': 484, 'link_mentions': 485, 'users': 486, 'hovercards': 487, 'dark': 488, 'acdaf': 489, 'ad': 490, 'af': 491, 'bfb': 492, 'btn': 493, 'cce': 494, 'client_id': 495, 'dialog': 496, 'edit': 497, 'event_type': 498, 'full': 499, 'hmac': 500, 'hydro': 501, 'originating_url': 502, 'profile_user_id': 503, 'toggle': 504, 'user_profile': 505, 'circle': 506, 'condensed': 507, 'lh': 508, 'max': 509, 'only': 510, 'smiley': 511, 'message': 512, 'normal': 513, 'ws': 514, 'your': 515, 'anim': 516, 'fade': 517, 'fast': 518, 'atwor': 519, 'av': 520, 'eiztue': 521, 'liuyobucs': 522, 'mw': 523, 'nxzgjgt': 524, 'post': 525, 'put': 526, 'unqgzajplgynq': 527, 'wgxoswnwalwssp': 528, 'wqmn': 529, 'bottom': 530, 'button': 531, 'close': 532, 'right': 533, 'org': 534, 'organization_id': 535, 'py': 536, 'characters': 537, 'remaining': 538, 'suggester': 539, 'group': 540, 'my': 541, 'table': 542, 'cell': 543, 'choose': 544, 'outline': 545, 'picker': 546, 'original': 547, 'custom': 548, 'happening': 549, 'maxlength': 550, 'required': 551, 'what': 552, 'again': 553, 'could': 554, 'error': 555, 'not': 556, 'please': 557, 'try': 558, 'update': 559, 'margin': 560, 'small': 561, 'suffix': 562, 'fragment': 563, 'include': 564, 'vh': 565, 'collapsed': 566, 'clearfix': 567, 'mx': 568, 'col': 569, 'baseline': 570, 'palm_tree': 571, 'predefined': 572, 'stretch': 573, 'alias': 574, 'fallback': 575, 'icons': 576, 'unicode': 577, 'solid': 578, 'transparent': 579, 'vacation': 580, 'out': 581, 'sick': 582, 'house': 583, 'from': 584, 'working': 585, 'dart': 586, 'focusing': 587, 'availability': 588, 'limited': 589, 'checkbox': 590, 'be': 591, 'describedby': 592, 'help': 593, 'may': 594, 'respond': 595, 'slow': 596, 'for': 597, 'busy': 598, 'note': 599, 'assign': 600, 'mention': 601, 'others': 602, 'review': 603, 'when': 604, 'know': 605, 'let': 606, 'that': 607, 'them': 608, 'will': 609, 'top': 610, 'disabled': 611, 'primary': 612, 'submit': 613, 'clear': 614, 'repositories': 615, 'tab': 616, 'projects': 617, 'repos': 618, 'starred': 619, 'stars': 620, 'gists': 621, 'settings': 622, 'elha': 623, 'ie': 624, 'jkateswywo': 625, 'kzuovxdblv': 626, 'logout': 627, 'necr': 628, 'ogth': 629, 'vpppkjcedqbjm': 630, 'vw': 631, 'sign': 632, 'signout': 633, 'ercmkvdjgskpaxc': 634, 'fwmzixlvapjg': 635, 'mj': 636, 'oo': 637, 'rce': 638, 'rj': 639, 'sr': 640, 'wnoxec': 641, 'flash': 642, 'commit': 643, 'main': 644, 'itemscope': 645, 'itemtype': 646, 'schema': 647, 'experiment': 648, 'pagehead': 649, 'readability': 650, 'repohead': 651, 'actions': 652, 'bk': 653, 'erbb': 654, 'fxympnmex': 655, 'jccvrkgt': 656, 'nxbymynwd': 657, 'poh': 658, 'qr': 659, 'remote': 660, 'social': 661, 'subscribe': 662, 'wl': 663, 'wthgthgtbbo': 664, 'wyw': 665, 'select': 666, 'count': 667, 'ea': 668, 'ffe': 669, 'sm': 670, 'watch': 671, 'watch_button': 672, 'with': 673, 'eye': 674, 'index': 675, 'checked': 676, 'do': 677, 'included': 678, 'menuitemradio': 679, 'check': 680, 'heading': 681, 'watching': 682, 'notified': 683, 'participating': 684, 'contents': 685, 'release_only': 686, 'releases': 687, 'unwatch': 688, 'subscribed': 689, 'conversations': 690, 'ignore': 691, 'ignoring': 692, 'never': 693, 'mute': 694, 'stop': 695, 'watchers': 696, 'are': 697, 'starring': 698, 'toggler': 699, 'axob': 700, 'ebqmpuriihqc': 701, 'fqtrkrnwi': 702, 'iu': 703, 'ki': 704, 'ptx': 705, 'pyevakme': 706, 'tcopcgx': 707, 'unstar': 708, 'bfbbe': 709, 'ed': 710, 'star': 711, 'unstar_button': 712, 'stargazers': 713, 'cfbefza': 714, 'fswna': 715, 'hzqme': 716, 'jv': 717, 'leke': 718, 'muaboj': 719, 'oqgr': 720, 'rpijg': 721, 'unstarred': 722, 'xoinxkcm': 723, 'cba': 724, 'star_button': 725, 'aefavgslq': 726, 'bswnmbbwf': 727, 'fork': 728, 'frntq': 729, 'ixtixxlxc': 730, 'jlaofa': 731, 'jpvdkfvrctrv': 732, 'oa': 733, 'tsowssapdhq': 734, 'zpeoqtwef': 735, 'copy': 736, 'fc': 737, 'fork_button': 738, 'forked': 739, 'own': 740, 'members': 741, 'network': 742, 'public': 743, 'author': 744, 'fn': 745, 'hovercard': 746, 'itemprop': 747, 'link_type': 748, 'self': 749, 'reponav': 750, 'sidenav': 751, 'breadcrumblist': 752, 'itemlistelement': 753, 'listitem': 754, 'repo_branches': 755, 'repo_commits': 756, 'repo_downloads': 757, 'repo_packages': 758, 'repo_releases': 759, 'repo_tags': 760, 'repo_issues': 761, 'repo_labels': 762, 'repo_milestones': 763, 'opened': 764, 'counter': 765, 'checks': 766, 'repo_pulls': 767, 'repo_project': 768, 'repo_projects': 769, 'repo_wiki': 770, 'wiki': 771, 'book': 772, 'alerts': 773, 'people': 774, 'pulse': 775, 'repo_graphs': 776, 'security': 777, 'graph': 778, 'insights': 779, 'discussion': 780, 'timeline': 781, 'ce': 782, 'de': 783, 'eed': 784, 'ff': 785, 'permalink': 786, 'shortcut': 787, 'afcc': 788, 'contrib': 789, 'file': 790, 'branch': 791, 'branches': 792, 'switch': 793, 'tags': 794, 'preload': 795, 'ref': 796, 'source_action': 797, 'loading': 798, 'octoface': 799, 'btngroup': 800, 'find': 801, 'capture': 802, 'clipboard': 803, 'breadcrumb': 804, 'final': 805, 'root': 806, 'segment': 807, 'separator': 808, 'tree': 809, 'contributors': 810, 'tease': 811, 'fetching': 812, 'hellip': 813, 'eaf': 814, 'cannot': 815, 'retrieve': 816, 'time': 817, 'info': 818, 'lines': 819, 'sloc': 820, 'bytes': 821, 'raw': 822, 'blame': 823, 'history': 824, 'nofollow': 825, 'nw': 826, 'desktop': 827, 'mac': 828, 'ae': 829, 'alttq': 830, 'ginxcyhdkgxeu': 831, 'gqryklbknrtf': 832, 'huhv': 833, 'kxpe': 834, 'lg': 835, 'lmukz': 836, 'tjze': 837, 'uwycbl': 838, 'xltuvkmbsvcv': 839, 'disable': 840, 'the': 841, 'pencil': 842, 'delete': 843, 'eg': 844, 'emsgfdbuv': 845, 'gqfduqzikh': 846, 'jkztcv': 847, 'ngpnbb': 848, 'ofeh': 849, 'pecgvnizkte': 850, 'danger': 851, 'trashcan': 852, 'highlight': 853, 'line': 854, 'tr': 855, 'number': 856, 'td': 857, 'after': 858, 'any': 859, 'attempts': 860, 'ball': 861, 'bat': 862, 'batsmen': 863, 'batting': 864, 'been': 865, 'called': 866, 'centre': 867, 'completed': 868, 'designated': 869, 'dismissed': 870, 'during': 871, 'each': 872, 'either': 873, 'eleven': 874, 'end': 875, 'ends': 876, 'extras': 877, 'gained': 878, 'game': 879, 'including': 880, 'inner': 881, 'innings': 882, 'long': 883, 'many': 884, 'most': 885, 'one': 886, 'opponents': 887, 'overs': 888, 'period': 889, 'phase': 890, 'pitch': 891, 'play': 892, 'played': 893, 'players': 894, 'possible': 895, 'rectangular': 896, 'roles': 897, 'runs': 898, 'score': 899, 'scores': 900, 'sited': 901, 'stumps': 902, 'swap': 903, 'teams': 904, 'ten': 905, 'their': 906, 'then': 907, 'three': 908, 'two': 909, 'which': 910, 'whilst': 911, 'wicket': 912, 'winning': 913, 'wooden': 914, 'yard': 915, 'blobtoolbar': 916, 'toolbar': 917, 'horizontal': 918, 'kebab': 919, 'se': 920, 'cursor': 921, 'pointer': 922, 'reference': 923, 'column': 924, 'linejump': 925, 'autofocus': 926, 'backdrop': 927, 'events': 928, 'touch': 929, 'contentinfo': 930, 'footer': 931, 'inc': 932, 'tjnfd': 933, 'unicorn': 934, 'terms': 935, 'privacy': 936, 'githubstatus': 937, 'homepage': 938, 'contact': 939, 'pricing': 940, 'developer': 941, 'training': 942, 'blog': 943, 'about': 944, 'ajax': 945, 'alert': 946, 'dismiss': 947, 'can': 948, 'perform': 949, 'aavsvk': 950, 'bcdoe': 951, 'fjbghtj': 952, 'izcdst': 953, 'javascript': 954, 'ldvdmcjyuiynzhy': 955, 'script': 956, 'winklc': 957, 'zlhnbvhgh': 958, 'async': 959, 'bootstrap': 960, 'bq': 961, 'cajdzsn': 962, 'cohmpg': 963, 'csdgbehi': 964, 'kcgyy': 965, 'klujdlru': 966, 'kr': 967, 'mjzidsgt': 968, 'mu': 969, 'ox': 970, 'qeaq': 971, 'up': 972, 'wnibe': 973, 'yc': 974, 'session': 975, 'stale': 976, 'warn': 977, 'another': 978, 'refresh': 979, 'reload': 980, 'window': 981, 'display': 982, 'popover': 983, 'large': 984, 'shadow': 985, 'notice': 986, 'polite': 987, 'reader': 988, 'screen': 989, 'badminton': 990, 'ffcbcec': 991, 'mduxojhmngvkywi': 992, 'mjywmtzky': 993, 'njhkogzizjm': 994, 'ntu': 995, 'nzzimjjmnzczzge': 996, 'vjmmezyzcxn': 997, 'zda': 998, 'mgrinzezodiymgy': 999, 'mtnemzeilcj': 1000, 'ojfenzy': 1001, 'owm': 1002, 'rdoyqtbfm': 1003, 'yjbjnjm': 1004, 'ymrjnmjkzti': 1005, 'yzc': 1006, 'zmq': 1007, 'zwrkywflohx': 1008, 'cuiikqtp': 1009, 'dzxky': 1010, 'gk': 1011, 'hozfgswkctlh': 1012, 'stxba': 1013, 'tzx': 1014, 'vtwroobbn': 1015, 'wmalzmxab': 1016, 'xyeql': 1017, 'yxyow': 1018, 'zy': 1019, 'bd': 1020, 'da': 1021, 'cbnjg': 1022, 'cxwbgprv': 1023, 'iuf': 1024, 'jpe': 1025, 'jrp': 1026, 'mhoztypusr': 1027, 'mudtymr': 1028, 'vvhgjdfbg': 1029, 'avdupyrfmx': 1030, 'bkxczou': 1031, 'bnprqospxwa': 1032, 'eq': 1033, 'kygc': 1034, 'lmmggalsfqt': 1035, 'opv': 1036, 'aeoxh': 1037, 'akv': 1038, 'dvcachqwcvev': 1039, 'omwhka': 1040, 'os': 1041, 'pj': 1042, 'pnfedmi': 1043, 'pnvlemsmifmiign': 1044, 'qsi': 1045, 'vk': 1046, 'yvu': 1047, 'zxhruxszu': 1048, 'aohrl': 1049, 'ju': 1050, 'lsmeedszo': 1051, 'op': 1052, 'pgnqzt': 1053, 'rtpxwfzfd': 1054, 'supitewd': 1055, 'syvmekihdeia': 1056, 'wbrwskjobov': 1057, 'xo': 1058, 'dcbf': 1059, 'dcf': 1060, 'fcabaf': 1061, 'fe': 1062, 'cjt': 1063, 'ck': 1064, 'dtki': 1065, 'ealeam': 1066, 'ljeuausot': 1067, 'llcnj': 1068, 'qjx': 1069, 'svm': 1070, 'upb': 1071, 'dc': 1072, 'dd': 1073, 'aqal': 1074, 'chhjy': 1075, 'dbldtrwohzj': 1076, 'ipfbk': 1077, 'np': 1078, 'ojcibagwh': 1079, 'ugpsuyldqqg': 1080, 'vda': 1081, 'xhd': 1082, 'zhzzol': 1083, 'edf': 1084, 'cxc': 1085, 'dzaoki': 1086, 'jkkiyyr': 1087, 'pg': 1088, 'qbysvxhobobkyej': 1089, 'qc': 1090, 'rezsqjlrfww': 1091, 'rooumnciait': 1092, 'sn': 1093, 'sp': 1094, 'vo': 1095, 'cfd': 1096, 'dbd': 1097, 'dab': 1098, 'faee': 1099, 'axin': 1100, 'efc': 1101, 'gg': 1102, 'opkdz': 1103, 'qn': 1104, 'rdjyboby': 1105, 'tiwoh': 1106, 'tmgmiop': 1107, 'unnesbyae': 1108, 'viy': 1109, 'wfvqk': 1110, 'xldop': 1111, 'zc': 1112, 'cfbj': 1113, 'doeumrhefce': 1114, 'fxauqhn': 1115, 'gbwa': 1116, 'groij': 1117, 'hftk': 1118, 'ikizud': 1119, 'pe': 1120, 'peql': 1121, 'rkm': 1122, 'tzre': 1123, 'vhug': 1124, 'vwmdw': 1125, 'xuhaorz': 1126, 'across': 1127, 'activity': 1128, 'although': 1129, 'beach': 1130, 'casual': 1131, 'common': 1132, 'court': 1133, 'doubles': 1134, 'formal': 1135, 'forms': 1136, 'games': 1137, 'half': 1138, 'hit': 1139, 'indoor': 1140, 'it': 1141, 'landing': 1142, 'larger': 1143, 'net': 1144, 'often': 1145, 'opposing': 1146, 'outdoor': 1147, 'per': 1148, 'player': 1149, 'points': 1150, 'racquet': 1151, 'racquets': 1152, 'scored': 1153, 'shuttlecock': 1154, 'side': 1155, 'singles': 1156, 'sport': 1157, 'striking': 1158, 'using': 1159, 'within': 1160, 'pxjm': 1161, 'dosa': 1162, 'aee': 1163, 'cc': 1164, 'dcdc': 1165, 'jhnjcwmdm': 1166, 'mduxomq': 1167, 'mgmxnwzmztqyy': 1168, 'mmfkmgy': 1169, 'mzhkzwiynwq': 1170, 'njllmmqzyjg': 1171, 'owjhndfmy': 1172, 'yja': 1173, 'zwzknzflogu': 1174, 'mdq': 1175, 'mtnenjailcj': 1176, 'mzkxzmqxmdzmy': 1177, 'ndoyqti': 1178, 'odfhztczoxx': 1179, 'ojfeodc': 1180, 'yme': 1181, 'zwi': 1182, 'djmxudijaffd': 1183, 'fexogfw': 1184, 'hwgapfzndt': 1185, 'nflz': 1186, 'rg': 1187, 'uyspj': 1188, 'bcecfcffbc': 1189, 'cbeb': 1190, 'db': 1191, 'eac': 1192, 'bydjx': 1193, 'gnrinmsk': 1194, 'kb': 1195, 'll': 1196, 'pin': 1197, 'rmti': 1198, 'rp': 1199, 'rshimeofbtfxlwl': 1200, 'tul': 1201, 'xynje': 1202, 'yo': 1203, 'awm': 1204, 'bnsk': 1205, 'cmqed': 1206, 'dfeenuaosq': 1207, 'dmtq': 1208, 'lu': 1209, 'rs': 1210, 'sb': 1211, 'ixa': 1212, 'jwv': 1213, 'kinvjtjo': 1214, 'qbykq': 1215, 'qwvc': 1216, 'utmevzwcgv': 1217, 'whuidxh': 1218, 'yi': 1219, 'yvojhl': 1220, 'afvrq': 1221, 'duzfjs': 1222, 'fjsgsmbc': 1223, 'llmllv': 1224, 'nihmeq': 1225, 'uoeuasblsueupr': 1226, 'wmr': 1227, 'yrojji': 1228, 'bce': 1229, 'cwpv': 1230, 'evi': 1231, 'ida': 1232, 'pwqganqy': 1233, 'ueqasruoo': 1234, 'uvgqsc': 1235, 'xox': 1236, 'ykc': 1237, 'ysuudcumu': 1238, 'cffdda': 1239, 'eeukei': 1240, 'fbu': 1241, 'gx': 1242, 'hayyvfy': 1243, 'oknxrekypcvibi': 1244, 'pgcz': 1245, 'rlkcq': 1246, 'sdts': 1247, 'smxtzq': 1248, 'ue': 1249, 'vfy': 1250, 'ycu': 1251, 'ba': 1252, 'dkrorgbjnfqlibv': 1253, 'iao': 1254, 'mjww': 1255, 'npdfzaj': 1256, 'obps': 1257, 'po': 1258, 'rhek': 1259, 'vnmvwr': 1260, 'wjureremizn': 1261, 'zq': 1262, 'ddcbbf': 1263, 'fcf': 1264, 'eedd': 1265, 'gcrttx': 1266, 'hwkkzqn': 1267, 'nkhlrdaexw': 1268, 'omntv': 1269, 'pbcbp': 1270, 'tb': 1271, 'uejv': 1272, 'uxra': 1273, 'vvjny': 1274, 'wzsclrztmpd': 1275, 'ahkmwieurskzrh': 1276, 'fjyyh': 1277, 'gngaotuxnrv': 1278, 'oxoynrc': 1279, 'pftujq': 1280, 'pshj': 1281, 'qgmcyc': 1282, 'sogyx': 1283, 'along': 1284, 'batter': 1285, 'beans': 1286, 'chutney': 1287, 'consumed': 1288, 'diet': 1289, 'fermented': 1290, 'hot': 1291, 'idli': 1292, 'indian': 1293, 'ingredients': 1294, 'its': 1295, 'kind': 1296, 'made': 1297, 'over': 1298, 'pancake': 1299, 'parcel': 1300, 'part': 1301, 'podi': 1302, 'popular': 1303, 'rice': 1304, 'sambar': 1305, 'served': 1306, 'south': 1307, 'subcontinent': 1308, 'traditionally': 1309, 'urad': 1310, 'well': 1311, 'according': 1312, 'achaya': 1313, 'already': 1314, 'ancient': 1315, 'around': 1316, 'birthplace': 1317, 'century': 1318, 'conjecture': 1319, 'country': 1320, 'day': 1321, 'dosai': 1322, 'exact': 1323, 'food': 1324, 'historian': 1325, 'india': 1326, 'indigenous': 1327, 'karnataka': 1328, 'literature': 1329, 'matter': 1330, 'nair': 1331, 'originated': 1332, 'present': 1333, 'references': 1334, 'region': 1335, 'sangam': 1336, 'st': 1337, 'tamil': 1338, 'thankappan': 1339, 'town': 1340, 'udupi': 1341, 'was': 1342, 'also': 1343, 'association': 1344, 'became': 1345, 'because': 1346, 'compiled': 1347, 'crispier': 1348, 'dish': 1349, 'dosaka': 1350, 'encyclopedia': 1351, 'first': 1352, 'found': 1353, 'iii': 1354, 'linked': 1355, 'manasollasa': 1356, 'origin': 1357, 'probably': 1358, 'recipe': 1359, 'restaurants': 1360, 'ruled': 1361, 'sanskrit': 1362, 'softer': 1363, 'someshvara': 1364, 'th': 1365, 'thicker': 1366, 'thinner': 1367, 'tradition': 1368, 'who': 1369, 'tx': 1370, 'pizza': 1371, 'aecee': 1372, 'mduxojg': 1373, 'mtdjywq': 1374, 'ndlknjvlyjizmjk': 1375, 'odg': 1376, 'yzu': 1377, 'yzzjowrkn': 1378, 'zgnindc': 1379, 'zthin': 1380, 'ebe': 1381, 'fjntixmji': 1382, 'mgm': 1383, 'mmuzy': 1384, 'mtnenzmilcj': 1385, 'odhmogi': 1386, 'otfkn': 1387, 'otg': 1388, 'ymm': 1389, 'zdczzja': 1390, 'zxx': 1391, 'gwbhjo': 1392, 'jshelyeoxi': 1393, 'mbe': 1394, 'mtihe': 1395, 'royjz': 1396, 'sqzslmttuzeewp': 1397, 'tdq': 1398, 'viuw': 1399, 'wcwctyos': 1400, 'xwa': 1401, 'zdy': 1402, 'bfe': 1403, 'cea': 1404, 'ayufsoy': 1405, 'cafsbzkreu': 1406, 'ecvptfrf': 1407, 'kfwc': 1408, 'lmmhjihvr': 1409, 'mfwgz': 1410, 'ova': 1411, 'sotsqjkee': 1412, 'wbi': 1413, 'wgvx': 1414, 'fjfhoij': 1415, 'gezewvjrcilifc': 1416, 'gjskfuq': 1417, 'ijok': 1418, 'le': 1419, 'mqinbobdq': 1420, 'mtyji': 1421, 'nnow': 1422, 'obzhq': 1423, 'skhrqlrymtsyef': 1424, 'ackbsuv': 1425, 'acpm': 1426, 'aqv': 1427, 'di': 1428, 'ek': 1429, 'fagu': 1430, 'fy': 1431, 'lze': 1432, 'msder': 1433, 'nhekk': 1434, 'orfhbklimblba': 1435, 'zxjlmw': 1436, 'gpsr': 1437, 'ib': 1438, 'infuqncz': 1439, 'kojajwgesa': 1440, 'lygpfpjowp': 1441, 'mqfny': 1442, 'nfwjkpp': 1443, 'pnqjdtv': 1444, 'qakj': 1445, 'qjluw': 1446, 'su': 1447, 'tirnx': 1448, 'fad': 1449, 'cjaxjmmj': 1450, 'euwhthhcc': 1451, 'hdfgoefq': 1452, 'ityn': 1453, 'kjc': 1454, 'msrt': 1455, 'nrcz': 1456, 'stvs': 1457, 'uj': 1458, 'urcyaj': 1459, 'woeq': 1460, 'xywpgxmoq': 1461, 'acaf': 1462, 'dbcd': 1463, 'bvwlkexoc': 1464, 'mdpgklxrcbv': 1465, 'mxwbbpdhgq': 1466, 'oyfweajsex': 1467, 'ryn': 1468, 'rzynpqsu': 1469, 'ulgmb': 1470, 'unvmx': 1471, 'uxey': 1472, 'xqpzvvzyjt': 1473, 'bb': 1474, 'dbc': 1475, 'edb': 1476, 'edef': 1477, 'eecae': 1478, 'fbd': 1479, 'drqqw': 1480, 'ejnuu': 1481, 'ev': 1482, 'fcpy': 1483, 'fh': 1484, 'flpzpbswv': 1485, 'gyeof': 1486, 'ivnt': 1487, 'mnrcmthjw': 1488, 'qpc': 1489, 'rkka': 1490, 'urrxrgd': 1491, 'wbmteitnqc': 1492, 'affd': 1493, 'cefddc': 1494, 'fae': 1495, 'dqexzjs': 1496, 'dwvw': 1497, 'dyielqtp': 1498, 'mlptp': 1499, 'qddiqmg': 1500, 'vwglf': 1501, 'xdbpwntwqe': 1502, 'yhzvfinnxjfq': 1503, 'cloahfbofjwn': 1504, 'cya': 1505, 'jl': 1506, 'mmnnigz': 1507, 'mqn': 1508, 'ptbhmo': 1509, 'pzszz': 1510, 'ta': 1511, 'tqe': 1512, 'uo': 1513, 'whtrxrfap': 1514, 'wlaouqj': 1515, 'xstp': 1516, 'areas': 1517, 'baked': 1518, 'become': 1519, 'central': 1520, 'cheese': 1521, 'commonly': 1522, 'condiments': 1523, 'flatbread': 1524, 'gaeta': 1525, 'generally': 1526, 'invented': 1527, 'italy': 1528, 'latin': 1529, 'manuscript': 1530, 'meats': 1531, 'modern': 1532, 'naples': 1533, 'oven': 1534, 'recorded': 1535, 'sauce': 1536, 'selection': 1537, 'since': 1538, 'term': 1539, 'tomato': 1540, 'topped': 1541, 'variants': 1542, 'vegetables': 1543, 'world': 1544, 'associazione': 1545, 'european': 1546, 'founded': 1547, 'guaranteed': 1548, 'headquarters': 1549, 'napoletana': 1550, 'neapolitan': 1551, 'non': 1552, 'organisation': 1553, 'profit': 1554, 'promotes': 1555, 'protects': 1556, 'safeguarded': 1557, 'speciality': 1558, 'traditional': 1559, 'union': 1560, 'upon': 1561, 'verace': 1562, 'america': 1563, 'calzone': 1564, 'cook': 1565, 'dishes': 1566, 'europe': 1567, 'exist': 1568, 'fresh': 1569, 'frozen': 1570, 'north': 1571, 'ovens': 1572, 'portions': 1573, 'preparation': 1574, 'prepared': 1575, 'several': 1576, 'similar': 1577, 'sold': 1578, 'stromboli': 1579, 'such': 1580, 'types': 1581, 'used': 1582, 'varieties': 1583, 'various': 1584, 'whole': 1585, 'tjjlr': 1586, 'pasta': 1587, 'mduxomvkmdc': 1588, 'mmzkogi': 1589, 'nzg': 1590, 'odm': 1591, 'yjawztlizwq': 1592, 'ymmyngqyytq': 1593, 'mdbkytnhn': 1594, 'mgu': 1595, 'mmy': 1596, 'mtnenkuilcj': 1597, 'njrmyjexowu': 1598, 'otqwowjhnwmzmzi': 1599, 'owjhmda': 1600, 'owy': 1601, 'ywvmn': 1602, 'zmvkythmnjnlmgu': 1603, 'brf': 1604, 'fi': 1605, 'ftw': 1606, 'hvrn': 1607, 'mnee': 1608, 'mouuhvlvporf': 1609, 'qaqbqlp': 1610, 'svfn': 1611, 'ubfjw': 1612, 'uk': 1613, 'wovkr': 1614, 'xb': 1615, 'xjujrhex': 1616, 'aec': 1617, 'hmungwa': 1618, 'iy': 1619, 'llsl': 1620, 'md': 1621, 'qpn': 1622, 'rx': 1623, 'sfofqt': 1624, 'tfxrcmyxmco': 1625, 'trrzhf': 1626, 'zpitcscrdzfu': 1627, 'zzrehdx': 1628, 'ecti': 1629, 'ejmy': 1630, 'msj': 1631, 'nubyj': 1632, 'sbdxw': 1633, 'vfiwy': 1634, 'vyirdos': 1635, 'xu': 1636, 'yu': 1637, 'bp': 1638, 'eglajfpxcujld': 1639, 'er': 1640, 'ha': 1641, 'ice': 1642, 'oarhtuzh': 1643, 'oi': 1644, 'xrzvot': 1645, 'ecslefy': 1646, 'gdevd': 1647, 'gomlb': 1648, 'nxwv': 1649, 'ogjeydtg': 1650, 'ooa': 1651, 'oquvz': 1652, 'ortotctfljjt': 1653, 'sg': 1654, 'ualcm': 1655, 'va': 1656, 'xopd': 1657, 'acb': 1658, 'cda': 1659, 'dfd': 1660, 'eab': 1661, 'ckcqwqwpkvn': 1662, 'fvm': 1663, 'hqh': 1664, 'iq': 1665, 'qkr': 1666, 'thbymuuf': 1667, 'tveo': 1668, 'wpfwu': 1669, 'cca': 1670, 'dce': 1671, 'hewif': 1672, 'nl': 1673, 'pfiq': 1674, 'pout': 1675, 'qqzga': 1676, 'qsxh': 1677, 'rlyziurce': 1678, 'rst': 1679, 'stnxxm': 1680, 'uqichejc': 1681, 'wwbjhuvxbxsea': 1682, 'zlg': 1683, 'ada': 1684, 'eb': 1685, 'bnk': 1686, 'iknbq': 1687, 'oleqztqmq': 1688, 'vb': 1689, 'vtno': 1690, 'wesoa': 1691, 'ace': 1692, 'aea': 1693, 'afeb': 1694, 'cad': 1695, 'dfad': 1696, 'bpt': 1697, 'cqhjd': 1698, 'dbzl': 1699, 'dq': 1700, 'fdjo': 1701, 'feekrau': 1702, 'hcmpwyqj': 1703, 'kiyxlgh': 1704, 'koetrqa': 1705, 'lbab': 1706, 'sks': 1707, 'uxntwarr': 1708, 'bapbvb': 1709, 'cldt': 1710, 'jp': 1711, 'lmdxrg': 1712, 'baking': 1713, 'boiling': 1714, 'broad': 1715, 'categories': 1716, 'cereals': 1717, 'cooked': 1718, 'cuisine': 1719, 'dating': 1720, 'divided': 1721, 'dough': 1722, 'dried': 1723, 'durum': 1724, 'eggs': 1725, 'flour': 1726, 'formed': 1727, 'fresca': 1728, 'grains': 1729, 'into': 1730, 'italian': 1731, 'mixed': 1732, 'noodle': 1733, 'other': 1734, 'pastas': 1735, 'refer': 1736, 'secca': 1737, 'shapes': 1738, 'sheets': 1739, 'sicily': 1740, 'staple': 1741, 'typically': 1742, 'unleavened': 1743, 'variety': 1744, 'water': 1745, 'wheat': 1746, 'aid': 1747, 'available': 1748, 'but': 1749, 'commercially': 1750, 'extrusion': 1751, 'hand': 1752, 'machines': 1753, 'process': 1754, 'produced': 1755, 'products': 1756, 'scale': 1757, 'simple': 1758, 'sometimes': 1759, 'supermarkets': 1760, 'today': 1761, 'via': 1762, 'widely': 1763, 'both': 1764, 'cavatelli': 1765, 'come': 1766, 'decorative': 1767, 'depending': 1768, 'different': 1769, 'documented': 1770, 'example': 1771, 'filled': 1772, 'flat': 1773, 'having': 1774, 'known': 1775, 'locale': 1776, 'miniature': 1777, 'names': 1778, 'short': 1779, 'soup': 1780, 'specialty': 1781, 'specific': 1782, 'stuffed': 1783, 'tubes': 1784, 'variably': 1785, 'vary': 1786, 'jfxn': 1787, 'noodles': 1788, 'mdnhmgzlmgfjnwm': 1789, 'mtbjoty': 1790, 'mte': 1791, 'ndmxyze': 1792, 'nmewmzq': 1793, 'nmu': 1794, 'nmvlmtm': 1795, 'otk': 1796, 'ytbinwe': 1797, 'yti': 1798, 'ywm': 1799, 'zdqym': 1800, 'mtnenkeilcj': 1801, 'ojfeoei': 1802, 'otoyqtjenzq': 1803, 'yje': 1804, 'yjg': 1805, 'zdq': 1806, 'ztc': 1807, 'zte': 1808, 'anbbx': 1809, 'axraaia': 1810, 'ejda': 1811, 'fmcq': 1812, 'kawa': 1813, 'mfcjldjhqjx': 1814, 'qiic': 1815, 'voqanfpies': 1816, 'yj': 1817, 'caa': 1818, 'cedf': 1819, 'feoi': 1820, 'fx': 1821, 'if': 1822, 'ir': 1823, 'ja': 1824, 'kznamxs': 1825, 'ldg': 1826, 'ns': 1827, 'ob': 1828, 'pjxposqia': 1829, 'rtc': 1830, 'tmcdrdbpi': 1831, 'ubd': 1832, 'uq': 1833, 'wfeb': 1834, 'xij': 1835, 'auu': 1836, 'bzzzdmy': 1837, 'ebiu': 1838, 'elah': 1839, 'gcl': 1840, 'ghjnokmukm': 1841, 'gueig': 1842, 'hojh': 1843, 'lpswtwe': 1844, 'ogbk': 1845, 'ry': 1846, 'uva': 1847, 'bbqhuoysg': 1848, 'cxg': 1849, 'eaxyqy': 1850, 'ewdcm': 1851, 'hkcvcj': 1852, 'hzjs': 1853, 'lk': 1854, 'wcftemhchzsl': 1855, 'wz': 1856, 'yhndujwes': 1857, 'zpmjnb': 1858, 'bdokf': 1859, 'bihi': 1860, 'ft': 1861, 'hiavvsjveloa': 1862, 'holp': 1863, 'nvvapo': 1864, 'pcjdfcu': 1865, 'pmbculiykl': 1866, 'qcpwpsfub': 1867, 'sblznsjfmivht': 1868, 'bacb': 1869, 'bca': 1870, 'dae': 1871, 'feitjqqgjpnrr': 1872, 'gaxfsfnwc': 1873, 'ije': 1874, 'irgfkou': 1875, 'km': 1876, 'pgcylv': 1877, 'pq': 1878, 'pxlicgkya': 1879, 'tcsodraca': 1880, 'zppzqfvbpd': 1881, 'fba': 1882, 'cadgwy': 1883, 'feq': 1884, 'gbnvfmaepuq': 1885, 'nacjnxbzhig': 1886, 'sys': 1887, 'xx': 1888, 'eda': 1889, 'eakkiya': 1890, 'fvkrro': 1891, 'iiloawhxorvrfdj': 1892, 'kxgcpurr': 1893, 'orhvv': 1894, 'ovonwbeigupc': 1895, 'rqag': 1896, 'sjksig': 1897, 'tbvhskub': 1898, 'bf': 1899, 'bfee': 1900, 'eaa': 1901, 'dtyplef': 1902, 'fcu': 1903, 'fuh': 1904, 'fvi': 1905, 'llijcxxz': 1906, 'lpaqxmjvnre': 1907, 'nasnvm': 1908, 'ojxatka': 1909, 'plospl': 1910, 'tdkmu': 1911, 'ury': 1912, 'uv': 1913, 'zw': 1914, 'awijq': 1915, 'dradvss': 1916, 'hddrcixjlfjd': 1917, 'jgycuxoxlrf': 1918, 'johrukqwlnvheyg': 1919, 'lgedocbwb': 1920, 'sv': 1921, 'tnovjdod': 1922, 'uoazx': 1923, 'cultures': 1924, 'cut': 1925, 'eat': 1926, 'eaten': 1927, 'extracted': 1928, 'extruded': 1929, 'far': 1930, 'once': 1931, 'plural': 1932, 'rolled': 1933, 'see': 1934, 'serve': 1935, 'serving': 1936, 'single': 1937, 'stretched': 1938, 'thus': 1939, 'word': 1940, 'accompanying': 1941, 'added': 1942, 'ago': 1943, 'china': 1944, 'composition': 1945, 'consumption': 1946, 'cooking': 1947, 'cultural': 1948, 'deep': 1949, 'derives': 1950, 'discussing': 1951, 'evidence': 1952, 'folded': 1953, 'fried': 1954, 'future': 1955, 'geo': 1956, 'german': 1957, 'has': 1958, 'helices': 1959, 'material': 1960, 'must': 1961, 'nudel': 1962, 'oil': 1963, 'oldest': 1964, 'pan': 1965, 'refrigerated': 1966, 'salt': 1967, 'shells': 1968, 'specified': 1969, 'storage': 1970, 'stored': 1971, 'strings': 1972, 'strips': 1973, 'they': 1974, 'thin': 1975, 'usually': 1976, 'waves': 1977, 'while': 1978, 'years': 1979, 'rxz': 1980, 'tennis': 1981, 'fknjg': 1982, 'mgy': 1983, 'ndqxntk': 1984, 'nzdhnjrjntc': 1985, 'ywy': 1986, 'zdewm': 1987, 'mdy': 1988, 'mmm': 1989, 'mtnenzgilcj': 1990, 'mzg': 1991, 'mznlyjbmyza': 1992, 'ndbjndnhmmixn': 1993, 'nja': 1994, 'njc': 1995, 'ogmymdq': 1996, 'ojfeota': 1997, 'qjoyqtm': 1998, 'rtg': 1999, 'yjnhzmy': 2000, 'ymq': 2001, 'ywi': 2002, 'zjy': 2003, 'zjzhzme': 2004, 'btvpby': 2005, 'ecaenrf': 2006, 'exji': 2007, 'gq': 2008, 'ip': 2009, 'jhpclh': 2010, 'lkcxaxnp': 2011, 'tbbpjpsat': 2012, 'udypk': 2013, 'vmizvfxacrnc': 2014, 'yit': 2015, 'afa': 2016, 'efd': 2017, 'ffa': 2018, 'bmfxtewspncu': 2019, 'cu': 2020, 'el': 2021, 'gvjab': 2022, 'jf': 2023, 'ncprr': 2024, 'ogah': 2025, 'tf': 2026, 'ug': 2027, 'uhcxaamqm': 2028, 'uky': 2029, 'vpru': 2030, 'yqt': 2031, 'dmropmlbvtep': 2032, 'eoguthzozl': 2033, 'hct': 2034, 'hyiu': 2035, 'igkcp': 2036, 'lia': 2037, 'qbf': 2038, 'qyu': 2039, 'ra': 2040, 'rinijl': 2041, 'ymaak': 2042, 'yrj': 2043, 'yttbssgxu': 2044, 'awud': 2045, 'dpmrq': 2046, 'fduywgmqvny': 2047, 'gdw': 2048, 'ghz': 2049, 'hfw': 2050, 'lr': 2051, 'npit': 2052, 'qa': 2053, 'uaixgrk': 2054, 'vt': 2055, 'xjhmqwoclf': 2056, 'ylkh': 2057, 'brth': 2058, 'fz': 2059, 'jfcg': 2060, 'kzmst': 2061, 'lqmdh': 2062, 'mthmmk': 2063, 'pyqzcfxpyfrtps': 2064, 'qnt': 2065, 'slmb': 2066, 'toauommthnxclz': 2067, 'wh': 2068, 'xtcnqc': 2069, 'fj': 2070, 'fndsa': 2071, 'hktcemseugs': 2072, 'iflf': 2073, 'iqz': 2074, 'kooal': 2075, 'mifucy': 2076, 'ntdikot': 2077, 'unlurvqaukj': 2078, 'xzi': 2079, 'zgw': 2080, 'ew': 2081, 'fkr': 2082, 'fmnt': 2083, 'gmrzja': 2084, 'gnil': 2085, 'iemcvozcuqvc': 2086, 'jmrgwfr': 2087, 'rjewhi': 2088, 'rpjknsdqu': 2089, 'rtveqxnrwgnpxkg': 2090, 'badba': 2091, 'bpx': 2092, 'cnpd': 2093, 'grnx': 2094, 'hljw': 2095, 'hpvat': 2096, 'iss': 2097, 'kbekp': 2098, 'kn': 2099, 'na': 2100, 'ooin': 2101, 'qmi': 2102, 'tubf': 2103, 'uy': 2104, 'znh': 2105, 'bfd': 2106, 'atutc': 2107, 'bbia': 2108, 'hm': 2109, 'hmx': 2110, 'lhfhmrujgz': 2111, 'pufflpbd': 2112, 'rvpl': 2113, 'uoy': 2114, 'vbhaufzesbn': 2115, 'vzjo': 2116, 'whe': 2117, 'xjfv': 2118, 'dflmi': 2119, 'drdyrendeiex': 2120, 'elq': 2121, 'fajuwpfrnme': 2122, 'jx': 2123, 'lyl': 2124, 'urb': 2125, 'xn': 2126, 'advantage': 2127, 'allow': 2128, 'alters': 2129, 'back': 2130, 'bounce': 2131, 'bounces': 2132, 'demands': 2133, 'except': 2134, 'fails': 2135, 'follows': 2136, 'forth': 2137, 'four': 2138, 'giving': 2139, 'great': 2140, 'hard': 2141, 'hitter': 2142, 'initial': 2143, 'least': 2144, 'lightweight': 2145, 'limits': 2146, 'opponent': 2147, 'opposite': 2148, 'options': 2149, 'paddle': 2150, 'ping': 2151, 'place': 2152, 'point': 2153, 'pong': 2154, 'quick': 2155, 'reactions': 2156, 'return': 2157, 'rules': 2158, 'so': 2159, 'spinning': 2160, 'takes': 2161, 'toward': 2162, 'trajectory': 2163, 'dh': 2164, 'ccec': 2165, 'cdf': 2166, 'fff': 2167, 'mtc': 2168, 'mtq': 2169, 'odyyntizngy': 2170, 'rkntk': 2171, 'zdcyntk': 2172, 'mdqzzwvlnwq': 2173, 'mtk': 2174, 'mtnenjuilcj': 2175, 'njllytiyzta': 2176, 'nmotdhmxx': 2177, 'nwjkzmm': 2178, 'ogqyzgi': 2179, 'ojfeodk': 2180, 'qjoyqtjbouu': 2181, 'yjizztnlmdzhy': 2182, 'ytu': 2183, 'ztnknjy': 2184, 'buq': 2185, 'gc': 2186, 'gsh': 2187, 'jlekqkwfj': 2188, 'kfjvte': 2189, 'ovztiflh': 2190, 'tm': 2191, 'tncto': 2192, 'tnmibhy': 2193, 'aff': 2194, 'fedce': 2195, 'djxm': 2196, 'htxsj': 2197, 'iali': 2198, 'ivrfpyo': 2199, 'jifknpviv': 2200, 'nkuhwlymcng': 2201, 'oirn': 2202, 'riwegshv': 2203, 'wgozjphfjqbycxs': 2204, 'agc': 2205, 'buf': 2206, 'ctjiw': 2207, 'ddls': 2208, 'dtrfff': 2209, 'ffbzmmo': 2210, 'ftt': 2211, 'vc': 2212, 'waaw': 2213, 'xa': 2214, 'yacargaj': 2215, 'bbkjzeg': 2216, 'crttggrstuxhv': 2217, 'qmljt': 2218, 'sirpa': 2219, 'tcvbzogcr': 2220, 'ut': 2221, 'xezfvgp': 2222, 'bzdvlbgxjkxbd': 2223, 'ikjalamtq': 2224, 'kzzga': 2225, 'lidmmotceowmbl': 2226, 'sogh': 2227, 'vwebw': 2228, 'wwbkgakby': 2229, 'xoe': 2230, 'zztiqiae': 2231, 'aeebb': 2232, 'afb': 2233, 'cvuulnf': 2234, 'dfs': 2235, 'dll': 2236, 'ery': 2237, 'morizgotq': 2238, 'qy': 2239, 'ssng': 2240, 'tlyi': 2241, 'vkk': 2242, 'weyxqy': 2243, 'xfnxq': 2244, 'baec': 2245, 'ebd': 2246, 'fccb': 2247, 'cfmi': 2248, 'dciw': 2249, 'fnquxv': 2250, 'gxcw': 2251, 'kaisef': 2252, 'mciawknjuv': 2253, 'pjn': 2254, 'wy': 2255, 'yllvmftqtryojkc': 2256, 'ywwqnpd': 2257, 'zmfuqf': 2258, 'bdc': 2259, 'fcd': 2260, 'anwmq': 2261, 'et': 2262, 'fbhxw': 2263, 'flve': 2264, 'lybi': 2265, 'qgta': 2266, 'rqvpfyk': 2267, 'uppwsqdtqk': 2268, 'wbq': 2269, 'xcbsjnbw': 2270, 'aaad': 2271, 'dbdfb': 2272, 'fca': 2273, 'bbl': 2274, 'bwv': 2275, 'dphsjjq': 2276, 'gxhnfgvv': 2277, 'ibfdhy': 2278, 'lx': 2279, 'ohn': 2280, 'ountdklhba': 2281, 'oyqhkesx': 2282, 'ryandjdlfvd': 2283, 'tpkd': 2284, 'zi': 2285, 'guotgfossni': 2286, 'hunurzggpgbbx': 2287, 'idkpsxicwpmblw': 2288, 'pudbg': 2289, 'qxrvq': 2290, 'rrp': 2291, 'wm': 2292, 'xmqyednjyfr': 2293, 'ydqmzvcnd': 2294, 'black': 2295, 'breakfast': 2296, 'breaks': 2297, 'cake': 2298, 'cakes': 2299, 'consisting': 2300, 'countries': 2301, 'diameter': 2302, 'down': 2303, 'fermentation': 2304, 'five': 2305, 'households': 2306, 'husked': 2307, 'inches': 2308, 'lanka': 2309, 'lentils': 2310, 'like': 2311, 'metabolised': 2312, 'neighbouring': 2313, 'readily': 2314, 'savoury': 2315, 'sri': 2316, 'starches': 2317, 'steaming': 2318, 'throughout': 2319, 'amongst': 2320, 'enduri': 2321, 'goans': 2322, 'konkani': 2323, 'odisha': 2324, 'pitha': 2325, 'sanna': 2326, 'variant': 2327, 'very': 2328, 'qhpf': 2329, 'baseball': 2330, 'fcc': 2331, 'mda': 2332, 'mdeynwzjnjrintu': 2333, 'mduxojk': 2334, 'mjm': 2335, 'mwm': 2336, 'mzc': 2337, 'nddjmgvjmgy': 2338, 'njm': 2339, 'nzq': 2340, 'ody': 2341, 'ognjmda': 2342, 'ogy': 2343, 'yju': 2344, 'zgy': 2345, 'mtnemzkilcj': 2346, 'ndexmty': 2347, 'nmmxmzcwnwq': 2348, 'nti': 2349, 'ode': 2350, 'ojfeodm': 2351, 'oti': 2352, 'rtoyqteyq': 2353, 'ytlknzuxztdmnnx': 2354, 'zjblzwnmmjc': 2355, 'gqs': 2356, 'hoso': 2357, 'ipbt': 2358, 'mcaeym': 2359, 'mwi': 2360, 'nzde': 2361, 'psjk': 2362, 'tcfdgm': 2363, 'vcq': 2364, 'vkno': 2365, 'wqzrhmeqdsvr': 2366, 'xcgxzkw': 2367, 'xtr': 2368, 'cdc': 2369, 'ebb': 2370, 'blw': 2371, 'eqe': 2372, 'jrc': 2373, 'mmgjw': 2374, 'ndv': 2375, 'oxz': 2376, 'oz': 2377, 'rrl': 2378, 'sad': 2379, 'uadtpuxh': 2380, 'uzaagsm': 2381, 'xqkccg': 2382, 'zacu': 2383, 'zbn': 2384, 'dle': 2385, 'ekitqi': 2386, 'hzqja': 2387, 'ksses': 2388, 'lynrycqk': 2389, 'pse': 2390, 'uvb': 2391, 'vtg': 2392, 'vtzqna': 2393, 'xwotliejccucq': 2394, 'aaqeomxeakth': 2395, 'ahzx': 2396, 'eh': 2397, 'emcost': 2398, 'emmbhljghws': 2399, 'ghva': 2400, 'pnburqqv': 2401, 'pw': 2402, 'uiqykoajf': 2403, 'un': 2404, 'xollqdfo': 2405, 'ywq': 2406, 'cqwtaoh': 2407, 'cvx': 2408, 'dpwasb': 2409, 'iowkic': 2410, 'iud': 2411, 'jxchdhezmc': 2412, 'ks': 2413, 'nsy': 2414, 'ovabivg': 2415, 'vvtu': 2416, 'xxox': 2417, 'zntqlz': 2418, 'aas': 2419, 'gu': 2420, 'hkth': 2421, 'ilwj': 2422, 'iz': 2423, 'mq': 2424, 'nioze': 2425, 'rfgnw': 2426, 'rppzg': 2427, 'vektiawrvy': 2428, 'wbbzinkdavax': 2429, 'yyhoiq': 2430, 'dfff': 2431, 'cdb': 2432, 'cenhwlxoe': 2433, 'ggtebqmibibos': 2434, 'ledu': 2435, 'oapcq': 2436, 'viz': 2437, 'vmt': 2438, 'yv': 2439, 'afc': 2440, 'cdcahyi': 2441, 'dzlcwd': 2442, 'hxpopsnqekkeez': 2443, 'ik': 2444, 'kimma': 2445, 'nbzsnv': 2446, 'oskyiox': 2447, 'ptxqm': 2448, 'sz': 2449, 'xkd': 2450, 'zquks': 2451, 'adf': 2452, 'ced': 2453, 'ffadac': 2454, 'hcxfmdoazsm': 2455, 'ivhzxcgxb': 2456, 'jnx': 2457, 'kzu': 2458, 'lhesbay': 2459, 'lpc': 2460, 'moaxwgqt': 2461, 'pag': 2462, 'pbxmjpse': 2463, 'zj': 2464, 'axrqkhy': 2465, 'dpkzyriufisz': 2466, 'incxqvoakhgv': 2467, 'kdrb': 2468, 'kuuk': 2469, 'qrqk': 2470, 'ujctqpecf': 2471, 'umn': 2472, 'yae': 2473, 'yboayngg': 2474, 'fielding': 2475, 'nine': 2476, 'take': 2477, 'turns': 2478, 'advances': 2479, 'bases': 2480, 'clockwise': 2481, 'hitting': 2482, 'pitcher': 2483, 'plate': 2484, 'returns': 2485, 'run': 2486, 'running': 2487, 'second': 2488, 'series': 2489, 'swung': 2490, 'third': 2491, 'thrown': 2492, 'xkvsf': 2493}\n"
     ]
    }
   ],
   "source": [
    "class ReadTxtFiles(object):\n",
    "    def __init__(self, dirname):\n",
    "        self.dirname = dirname\n",
    "\n",
    "    def __iter__(self):\n",
    "        for fname in os.listdir(self.dirname):\n",
    "            print(fname)\n",
    "            for line in open(os.path.join(self.dirname, fname), encoding='utf-8'):\n",
    "                yield simple_preprocess(line)\n",
    "\n",
    "path_to_text_directory = \"fooddocs\"\n",
    "\n",
    "dictionary = corpora.Dictionary(ReadTxtFiles(path_to_text_directory))\n",
    "print(dictionary.token2id)"
   ]
  },
  {
   "cell_type": "code",
   "execution_count": null,
   "metadata": {},
   "outputs": [],
   "source": []
  }
 ],
 "metadata": {
  "kernelspec": {
   "display_name": "GensimTut_Python3.7",
   "language": "python",
   "name": "venv"
  },
  "language_info": {
   "codemirror_mode": {
    "name": "ipython",
    "version": 3
   },
   "file_extension": ".py",
   "mimetype": "text/x-python",
   "name": "python",
   "nbconvert_exporter": "python",
   "pygments_lexer": "ipython3",
   "version": "3.7.2"
  }
 },
 "nbformat": 4,
 "nbformat_minor": 2
}
